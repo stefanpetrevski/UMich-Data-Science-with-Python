{
 "cells": [
  {
   "cell_type": "markdown",
   "metadata": {},
   "source": [
    "# Assignment 4\n",
    "\n",
    "Before working on this assignment please read these instructions fully. In the submission area, you will notice that you can click the link to **Preview the Grading** for each step of the assignment. This is the criteria that will be used for peer grading. Please familiarize yourself with the criteria before beginning the assignment.\n",
    "\n",
    "This assignment requires that you to find **at least** two datasets on the web which are related, and that you visualize these datasets to answer a question with the broad topic of **sports or athletics** (see below) for the region of **Skopje, None, North Macedonia**, or **North Macedonia** more broadly.\n",
    "\n",
    "You can merge these datasets with data from different regions if you like! For instance, you might want to compare **Skopje, None, North Macedonia** to Ann Arbor, USA. In that case at least one source file must be about **Skopje, None, North Macedonia**.\n",
    "\n",
    "You are welcome to choose datasets at your discretion, but keep in mind **they will be shared with your peers**, so choose appropriate datasets. Sensitive, confidential, illicit, and proprietary materials are not good choices for datasets for this assignment. You are welcome to upload datasets of your own as well, and link to them using a third party repository such as github, bitbucket, pastebin, etc. Please be aware of the Coursera terms of service with respect to intellectual property.\n",
    "\n",
    "Also, you are welcome to preserve data in its original language, but for the purposes of grading you should provide english translations. You are welcome to provide multiple visuals in different languages if you would like!\n",
    "\n",
    "As this assignment is for the whole course, you must incorporate principles discussed in the first week, such as having as high data-ink ratio (Tufte) and aligning with Cairo’s principles of truth, beauty, function, and insight.\n",
    "\n",
    "Here are the assignment instructions:\n",
    "\n",
    " * State the region and the domain category that your data sets are about (e.g., **Skopje, None, North Macedonia** and **sports or athletics**).\n",
    " * You must state a question about the domain category and region that you identified as being interesting.\n",
    " * You must provide at least two links to available datasets. These could be links to files such as CSV or Excel files, or links to websites which might have data in tabular form, such as Wikipedia pages.\n",
    " * You must upload an image which addresses the research question you stated. In addition to addressing the question, this visual should follow Cairo's principles of truthfulness, functionality, beauty, and insightfulness.\n",
    " * You must contribute a short (1-2 paragraph) written justification of how your visualization addresses your stated research question.\n",
    "\n",
    "What do we mean by **sports or athletics**?  For this category we are interested in sporting events or athletics broadly, please feel free to creatively interpret the category when building your research question!\n",
    "\n",
    "## Tips\n",
    "* Wikipedia is an excellent source of data, and I strongly encourage you to explore it for new data sources.\n",
    "* Many governments run open data initiatives at the city, region, and country levels, and these are wonderful resources for localized data sources.\n",
    "* Several international agencies, such as the [United Nations](http://data.un.org/), the [World Bank](http://data.worldbank.org/), the [Global Open Data Index](http://index.okfn.org/place/) are other great places to look for data.\n",
    "* This assignment requires you to convert and clean datafiles. Check out the discussion forums for tips on how to do this from various sources, and share your successes with your fellow students!\n",
    "\n",
    "## Example\n",
    "Looking for an example? Here's what our course assistant put together for the **Ann Arbor, MI, USA** area using **sports and athletics** as the topic. [Example Solution File](./readonly/Assignment4_example.pdf)"
   ]
  },
  {
   "cell_type": "code",
   "execution_count": 52,
   "metadata": {
    "collapsed": false
   },
   "outputs": [],
   "source": [
    "import pandas as pd\n",
    "import numpy as np\n",
    "import matplotlib.pyplot as plt"
   ]
  },
  {
   "cell_type": "markdown",
   "metadata": {},
   "source": [
    "Data is sourced from here: https://appsso.eurostat.ec.europa.eu/nui/show.do?query=BOOKMARK_DS-812554_QID_-36E8C8C8_UID_-3F171EB0&layout=FREQUENC,L,X,0;GEO,L,Y,0;TIME,C,Z,0;ISCED11,L,Z,1;AGE,L,Z,2;SEX,L,Z,3;UNIT,L,Z,4;ACL00,L,Z,5;INDICATORS,C,Z,6;&zSelection=DS-812554TIME,2015;DS-812554AGE,Y_GE16;DS-812554UNIT,PC;DS-812554INDICATORS,OBS_FLAG;DS-812554ACL00,AC525;DS-812554ISCED11,TOTAL;DS-812554SEX,T;&rankName1=ISCED11_1_2_-1_2&rankName2=UNIT_1_2_-1_2&rankName3=AGE_1_2_-1_2&rankName4=INDICATORS_1_2_-1_2&rankName5=SEX_1_2_-1_2&rankName6=TIME_1_0_1_0&rankName7=ACL00_1_2_1_0&rankName8=FREQUENC_1_2_0_0&rankName9=GEO_1_2_0_1&rStp=&cStp=&rDCh=&cDCh=&rDM=true&cDM=true&footnes=false&empty=false&wai=false&time_mode=ROLLING&time_most_recent=true&lang=EN&cfo=%23%23%23%2C%23%23%23.%23%23%23&eub_bm:ilc_scp03$DV_551&lang=en"
   ]
  },
  {
   "cell_type": "code",
   "execution_count": 74,
   "metadata": {
    "collapsed": false,
    "scrolled": true
   },
   "outputs": [
    {
     "data": {
      "text/html": [
       "<div>\n",
       "<table border=\"1\" class=\"dataframe\">\n",
       "  <thead>\n",
       "    <tr style=\"text-align: right;\">\n",
       "      <th></th>\n",
       "      <th>GEO</th>\n",
       "      <th>AGE</th>\n",
       "      <th>Value</th>\n",
       "    </tr>\n",
       "  </thead>\n",
       "  <tbody>\n",
       "    <tr>\n",
       "      <th>8856</th>\n",
       "      <td>Croatia</td>\n",
       "      <td>From 16 to 24 years</td>\n",
       "      <td>52.8</td>\n",
       "    </tr>\n",
       "    <tr>\n",
       "      <th>8865</th>\n",
       "      <td>Croatia</td>\n",
       "      <td>From 25 to 34 years</td>\n",
       "      <td>42.0</td>\n",
       "    </tr>\n",
       "    <tr>\n",
       "      <th>8871</th>\n",
       "      <td>Croatia</td>\n",
       "      <td>From 35 to 49 years</td>\n",
       "      <td>30.3</td>\n",
       "    </tr>\n",
       "    <tr>\n",
       "      <th>8874</th>\n",
       "      <td>Croatia</td>\n",
       "      <td>From 50 to 64 years</td>\n",
       "      <td>16.6</td>\n",
       "    </tr>\n",
       "    <tr>\n",
       "      <th>10260</th>\n",
       "      <td>Slovenia</td>\n",
       "      <td>From 16 to 24 years</td>\n",
       "      <td>47.4</td>\n",
       "    </tr>\n",
       "    <tr>\n",
       "      <th>10269</th>\n",
       "      <td>Slovenia</td>\n",
       "      <td>From 25 to 34 years</td>\n",
       "      <td>38.5</td>\n",
       "    </tr>\n",
       "    <tr>\n",
       "      <th>10275</th>\n",
       "      <td>Slovenia</td>\n",
       "      <td>From 35 to 49 years</td>\n",
       "      <td>37.2</td>\n",
       "    </tr>\n",
       "    <tr>\n",
       "      <th>10278</th>\n",
       "      <td>Slovenia</td>\n",
       "      <td>From 50 to 64 years</td>\n",
       "      <td>25.7</td>\n",
       "    </tr>\n",
       "    <tr>\n",
       "      <th>11124</th>\n",
       "      <td>North Macedonia</td>\n",
       "      <td>From 16 to 24 years</td>\n",
       "      <td>40.0</td>\n",
       "    </tr>\n",
       "    <tr>\n",
       "      <th>11133</th>\n",
       "      <td>North Macedonia</td>\n",
       "      <td>From 25 to 34 years</td>\n",
       "      <td>29.3</td>\n",
       "    </tr>\n",
       "    <tr>\n",
       "      <th>11139</th>\n",
       "      <td>North Macedonia</td>\n",
       "      <td>From 35 to 49 years</td>\n",
       "      <td>18.4</td>\n",
       "    </tr>\n",
       "    <tr>\n",
       "      <th>11142</th>\n",
       "      <td>North Macedonia</td>\n",
       "      <td>From 50 to 64 years</td>\n",
       "      <td>12.3</td>\n",
       "    </tr>\n",
       "    <tr>\n",
       "      <th>11232</th>\n",
       "      <td>Serbia</td>\n",
       "      <td>From 16 to 24 years</td>\n",
       "      <td>48.5</td>\n",
       "    </tr>\n",
       "    <tr>\n",
       "      <th>11241</th>\n",
       "      <td>Serbia</td>\n",
       "      <td>From 25 to 34 years</td>\n",
       "      <td>34.0</td>\n",
       "    </tr>\n",
       "    <tr>\n",
       "      <th>11247</th>\n",
       "      <td>Serbia</td>\n",
       "      <td>From 35 to 49 years</td>\n",
       "      <td>25.2</td>\n",
       "    </tr>\n",
       "    <tr>\n",
       "      <th>11250</th>\n",
       "      <td>Serbia</td>\n",
       "      <td>From 50 to 64 years</td>\n",
       "      <td>13.9</td>\n",
       "    </tr>\n",
       "  </tbody>\n",
       "</table>\n",
       "</div>"
      ],
      "text/plain": [
       "                   GEO                  AGE  Value\n",
       "8856           Croatia  From 16 to 24 years   52.8\n",
       "8865           Croatia  From 25 to 34 years   42.0\n",
       "8871           Croatia  From 35 to 49 years   30.3\n",
       "8874           Croatia  From 50 to 64 years   16.6\n",
       "10260         Slovenia  From 16 to 24 years   47.4\n",
       "10269         Slovenia  From 25 to 34 years   38.5\n",
       "10275         Slovenia  From 35 to 49 years   37.2\n",
       "10278         Slovenia  From 50 to 64 years   25.7\n",
       "11124  North Macedonia  From 16 to 24 years   40.0\n",
       "11133  North Macedonia  From 25 to 34 years   29.3\n",
       "11139  North Macedonia  From 35 to 49 years   18.4\n",
       "11142  North Macedonia  From 50 to 64 years   12.3\n",
       "11232           Serbia  From 16 to 24 years   48.5\n",
       "11241           Serbia  From 25 to 34 years   34.0\n",
       "11247           Serbia  From 35 to 49 years   25.2\n",
       "11250           Serbia  From 50 to 64 years   13.9"
      ]
     },
     "execution_count": 74,
     "metadata": {},
     "output_type": "execute_result"
    }
   ],
   "source": [
    "euro_data = pd.read_csv('eurostat_data.csv')\n",
    "\n",
    "# Create a group for ex-Yugoslav countries\n",
    "ex_yu = ['Croatia', 'Serbia', 'North Macedonia', 'Slovenia']\n",
    "\n",
    "# Filter out the variables that we don't need\n",
    "# We just want all sexes and all education levels, broken down by age and by country\n",
    "# And also look for those who have attended a sports event at least once\n",
    "\n",
    "df = euro_data[euro_data['SEX'] == 'Total']\n",
    "df = df[df['GEO'].isin(ex_yu)]\n",
    "df = df[df['FREQUENC'] == 'At least once']\n",
    "df = df[df['ISCED11'] == 'All ISCED 2011 levels ']\n",
    "\n",
    "# Tidying up to remove unnecessary columns \n",
    "df.drop(['UNIT', 'SEX', 'ACL00', 'Flag and Footnotes', 'TIME', 'FREQUENC', 'ISCED11'], axis = 1, inplace = True)\n",
    "\n",
    "# Making sure we can actually work with the values - strings are useless for plotting\n",
    "df['Value'] = df['Value'].astype(float)\n",
    "# Using disjoint and most representative age groups\n",
    "cols_to_use = ['From 16 to 24 years', 'From 25 to 34 years', 'From 35 to 49 years', 'From 50 to 64 years']\n",
    "df = df[df['AGE'].isin(cols_to_use)]\n",
    "\n",
    "df.reset_index()\n",
    "df"
   ]
  },
  {
   "cell_type": "code",
   "execution_count": 81,
   "metadata": {
    "collapsed": false,
    "scrolled": true
   },
   "outputs": [
    {
     "data": {
      "image/png": "[encoded data removed]",
      "text/plain": [
       "<matplotlib.figure.Figure at 0x7fb931cc56d8>"
      ]
     },
     "metadata": {},
     "output_type": "display_data"
    }
   ],
   "source": [
    "df['Value'].plot(\n",
    "    kind = 'bar', \n",
    "    stacked = False\n",
    ")\n",
    "\n",
    "plt.xlabel(\"Country\", alpha = 0.7)\n",
    "plt.ylabel(\"% attending $\\geq 1$ event\", alpha = 0.5)\n",
    "plt.legend(loc = 'best')\n",
    "plt.gca().spines['top'].set_visible(False)\n",
    "plt.gca().spines['right'].set_visible(False)\n",
    "\n",
    "ax1 = plt.gca()\n",
    "ax1.grid(True, alpha = 0.1)\n",
    "\n",
    "plt.title('Attendance of sports events in the last 12 months \\n in ex-Yu countries, by age group (2015)')\n",
    "plt.show()\n"
   ]
  },
  {
   "cell_type": "markdown",
   "metadata": {},
   "source": [
    "OK, not exactly what we want. Now, we want to put the age groups as column variables and just have 4 rows to work with - one for each country. Then, we can go ahead and plot the column charts."
   ]
  },
  {
   "cell_type": "code",
   "execution_count": 125,
   "metadata": {
    "collapsed": false
   },
   "outputs": [
    {
     "data": {
      "text/html": [
       "<div>\n",
       "<table border=\"1\" class=\"dataframe\">\n",
       "  <thead>\n",
       "    <tr>\n",
       "      <th></th>\n",
       "      <th colspan=\"4\" halign=\"left\">Value</th>\n",
       "    </tr>\n",
       "    <tr>\n",
       "      <th>AGE</th>\n",
       "      <th>16-24</th>\n",
       "      <th>25-34</th>\n",
       "      <th>35-49</th>\n",
       "      <th>50-64</th>\n",
       "    </tr>\n",
       "    <tr>\n",
       "      <th>GEO</th>\n",
       "      <th></th>\n",
       "      <th></th>\n",
       "      <th></th>\n",
       "      <th></th>\n",
       "    </tr>\n",
       "  </thead>\n",
       "  <tbody>\n",
       "    <tr>\n",
       "      <th>Croatia</th>\n",
       "      <td>52.8</td>\n",
       "      <td>42.0</td>\n",
       "      <td>30.3</td>\n",
       "      <td>16.6</td>\n",
       "    </tr>\n",
       "    <tr>\n",
       "      <th>Serbia</th>\n",
       "      <td>48.5</td>\n",
       "      <td>34.0</td>\n",
       "      <td>25.2</td>\n",
       "      <td>13.9</td>\n",
       "    </tr>\n",
       "    <tr>\n",
       "      <th>Slovenia</th>\n",
       "      <td>47.4</td>\n",
       "      <td>38.5</td>\n",
       "      <td>37.2</td>\n",
       "      <td>25.7</td>\n",
       "    </tr>\n",
       "    <tr>\n",
       "      <th>North Macedonia</th>\n",
       "      <td>40.0</td>\n",
       "      <td>29.3</td>\n",
       "      <td>18.4</td>\n",
       "      <td>12.3</td>\n",
       "    </tr>\n",
       "  </tbody>\n",
       "</table>\n",
       "</div>"
      ],
      "text/plain": [
       "                Value                  \n",
       "AGE             16-24 25-34 35-49 50-64\n",
       "GEO                                    \n",
       "Croatia          52.8  42.0  30.3  16.6\n",
       "Serbia           48.5  34.0  25.2  13.9\n",
       "Slovenia         47.4  38.5  37.2  25.7\n",
       "North Macedonia  40.0  29.3  18.4  12.3"
      ]
     },
     "execution_count": 125,
     "metadata": {},
     "output_type": "execute_result"
    }
   ],
   "source": [
    "my_table = df.pivot_table(index = ['GEO'], values = ['Value'], columns = ['AGE'])\n",
    "\n",
    "new_col_names = {'From 16 to 24 years':'16-24', 'From 25 to 34 years':'25-34', \n",
    "              'From 35 to 49 years':'35-49', 'From 50 to 64 years':'50-64',\n",
    "             'From 65 to 75 years':'65-74', '75 years or over':'75+'}\n",
    "\n",
    "my_table = my_table.rename(columns = new_col_names)\n",
    "# sort values by what the youngest generation is doing\n",
    "my_table = my_table.reindex(my_table['Value'].sort_values(by='16-24', ascending=False).index)\n",
    "my_table"
   ]
  },
  {
   "cell_type": "code",
   "execution_count": 133,
   "metadata": {
    "collapsed": false
   },
   "outputs": [
    {
     "data": {
      "image/png": "[encoded data removed]",
      "text/plain": [
       "<matplotlib.figure.Figure at 0x7fb931e330b8>"
      ]
     },
     "metadata": {},
     "output_type": "display_data"
    }
   ],
   "source": [
    "\n",
    "my_plot = my_table['Value'].plot(\n",
    "    kind = 'bar', \n",
    "    stacked = False,\n",
    ")\n",
    "\n",
    "plt.xlabel(\"Country\", alpha = 0.7)\n",
    "plt.ylabel(\"% attending $\\geq 1$ event\", alpha = 0.7)\n",
    "\n",
    "plt.legend(loc = 'best', fontsize = 8)\n",
    "plt.gca().spines['top'].set_visible(False)\n",
    "plt.gca().spines['right'].set_visible(False)\n",
    "\n",
    "ax1 = plt.gca()\n",
    "ax1.grid(True, alpha = 0.1)\n",
    "\n",
    "plt.title('Attendance of sports events in ex-Yugoslavian \\n countries, by age group (2015)')\n",
    "\n",
    "plt.show()"
   ]
  },
  {
   "cell_type": "markdown",
   "metadata": {},
   "source": [
    "The second dataset we'll use is the private spending of households on sports, with 2015 as a baseline year. The data can be found here: https://ec.europa.eu/eurostat/databrowser/view/prc_hicp_aind/default/table?lang=en"
   ]
  },
  {
   "cell_type": "code",
   "execution_count": 152,
   "metadata": {
    "collapsed": false
   },
   "outputs": [
    {
     "data": {
      "text/html": [
       "<div>\n",
       "<table border=\"1\" class=\"dataframe\">\n",
       "  <thead>\n",
       "    <tr style=\"text-align: right;\">\n",
       "      <th></th>\n",
       "      <th>2012</th>\n",
       "      <th>2013</th>\n",
       "      <th>2014</th>\n",
       "      <th>2015</th>\n",
       "      <th>2016</th>\n",
       "      <th>2017</th>\n",
       "      <th>2018</th>\n",
       "      <th>2019</th>\n",
       "      <th>2020</th>\n",
       "      <th>2021</th>\n",
       "    </tr>\n",
       "    <tr>\n",
       "      <th>TIME</th>\n",
       "      <th></th>\n",
       "      <th></th>\n",
       "      <th></th>\n",
       "      <th></th>\n",
       "      <th></th>\n",
       "      <th></th>\n",
       "      <th></th>\n",
       "      <th></th>\n",
       "      <th></th>\n",
       "      <th></th>\n",
       "    </tr>\n",
       "  </thead>\n",
       "  <tbody>\n",
       "    <tr>\n",
       "      <th>Croatia</th>\n",
       "      <td>97.76</td>\n",
       "      <td>100.04</td>\n",
       "      <td>100.26</td>\n",
       "      <td>100.0</td>\n",
       "      <td>99.37</td>\n",
       "      <td>100.67</td>\n",
       "      <td>102.23</td>\n",
       "      <td>103.04</td>\n",
       "      <td>103.06</td>\n",
       "      <td>105.82</td>\n",
       "    </tr>\n",
       "    <tr>\n",
       "      <th>Slovenia</th>\n",
       "      <td>98.50</td>\n",
       "      <td>100.40</td>\n",
       "      <td>100.77</td>\n",
       "      <td>100.0</td>\n",
       "      <td>99.85</td>\n",
       "      <td>101.40</td>\n",
       "      <td>103.36</td>\n",
       "      <td>105.11</td>\n",
       "      <td>104.82</td>\n",
       "      <td>106.97</td>\n",
       "    </tr>\n",
       "    <tr>\n",
       "      <th>North Macedonia</th>\n",
       "      <td>97.26</td>\n",
       "      <td>99.91</td>\n",
       "      <td>99.87</td>\n",
       "      <td>100.0</td>\n",
       "      <td>100.24</td>\n",
       "      <td>102.35</td>\n",
       "      <td>104.66</td>\n",
       "      <td>105.42</td>\n",
       "      <td>106.73</td>\n",
       "      <td>110.36</td>\n",
       "    </tr>\n",
       "    <tr>\n",
       "      <th>Serbia</th>\n",
       "      <td>89.40</td>\n",
       "      <td>96.30</td>\n",
       "      <td>98.50</td>\n",
       "      <td>100.0</td>\n",
       "      <td>101.30</td>\n",
       "      <td>104.70</td>\n",
       "      <td>106.80</td>\n",
       "      <td>108.80</td>\n",
       "      <td>110.7</td>\n",
       "      <td>115.2</td>\n",
       "    </tr>\n",
       "  </tbody>\n",
       "</table>\n",
       "</div>"
      ],
      "text/plain": [
       "                  2012    2013    2014   2015    2016    2017    2018    2019  \\\n",
       "TIME                                                                            \n",
       "Croatia          97.76  100.04  100.26  100.0   99.37  100.67  102.23  103.04   \n",
       "Slovenia         98.50  100.40  100.77  100.0   99.85  101.40  103.36  105.11   \n",
       "North Macedonia  97.26   99.91   99.87  100.0  100.24  102.35  104.66  105.42   \n",
       "Serbia           89.40   96.30   98.50  100.0  101.30  104.70  106.80  108.80   \n",
       "\n",
       "                   2020    2021  \n",
       "TIME                             \n",
       "Croatia          103.06  105.82  \n",
       "Slovenia         104.82  106.97  \n",
       "North Macedonia  106.73  110.36  \n",
       "Serbia            110.7   115.2  "
      ]
     },
     "execution_count": 152,
     "metadata": {},
     "output_type": "execute_result"
    }
   ],
   "source": [
    "df2 = pd.read_excel('ec_data.xlsx')\n",
    "df2 = df2[df2['TIME'].isin(ex_yu)]\n",
    "df2.set_index(['TIME'])"
   ]
  },
  {
   "cell_type": "code",
   "execution_count": 175,
   "metadata": {
    "collapsed": false
   },
   "outputs": [
    {
     "data": {
      "text/plain": [
       "2012     97.26\n",
       "2013     99.91\n",
       "2014     99.87\n",
       "2015       100\n",
       "2016    100.24\n",
       "2017    102.35\n",
       "2018    104.66\n",
       "2019    105.42\n",
       "2020    106.73\n",
       "2021    110.36\n",
       "Name: 39, dtype: object"
      ]
     },
     "execution_count": 175,
     "metadata": {},
     "output_type": "execute_result"
    }
   ],
   "source": [
    "# Take the rows of each dataset to be the timeseries\n",
    "croatia = df2.iloc[0, 1:]\n",
    "slovenia = df2.iloc[1, 1:]\n",
    "macedonia = df2.iloc[2,1:]\n",
    "serbia = df2.iloc[3, 1:]\n",
    "\n",
    "macedonia"
   ]
  },
  {
   "cell_type": "code",
   "execution_count": 176,
   "metadata": {
    "collapsed": false
   },
   "outputs": [
    {
     "data": {
      "text/plain": [
       "['2012',\n",
       " '2013',\n",
       " '2014',\n",
       " '2015',\n",
       " '2016',\n",
       " '2017',\n",
       " '2018',\n",
       " '2019',\n",
       " '2020',\n",
       " '2021']"
      ]
     },
     "execution_count": 176,
     "metadata": {},
     "output_type": "execute_result"
    }
   ],
   "source": [
    "# Take the names of the columns to be the axis labels\n",
    "labels = list(df2.columns.values)[1:]\n",
    "labels"
   ]
  },
  {
   "cell_type": "code",
   "execution_count": 188,
   "metadata": {
    "collapsed": false
   },
   "outputs": [
    {
     "data": {
      "image/png": "[encoded data removed]",
      "text/plain": [
       "<matplotlib.figure.Figure at 0x7fb931b8e4a8>"
      ]
     },
     "metadata": {},
     "output_type": "display_data"
    }
   ],
   "source": [
    "plt.plot(labels, macedonia, label = 'Macedonia')\n",
    "plt.plot(labels, serbia, label = 'Serbia')\n",
    "plt.plot(labels, slovenia, label = 'Slovenia')\n",
    "plt.plot(labels, croatia, label = 'Croatia')\n",
    "plt.legend(loc = 'best')\n",
    "\n",
    "plt.xlabel(\"Year\", alpha = 0.7)\n",
    "plt.ylabel(\"Sports spending (index)\", alpha = 0.7)\n",
    "\n",
    "plt.legend(loc = 'best', fontsize = 8)\n",
    "plt.gca().spines['top'].set_visible(False)\n",
    "plt.gca().spines['right'].set_visible(False)\n",
    "\n",
    "ax2 = plt.gca()\n",
    "ax2.grid(True, alpha = 0.1)\n",
    "\n",
    "plt.title('Private household expenditure on sports in \\n ex-Yu countries (index, $2015 = 100$)')\n",
    "plt.show()"
   ]
  },
  {
   "cell_type": "code",
   "execution_count": null,
   "metadata": {
    "collapsed": true
   },
   "outputs": [],
   "source": []
  }
 ],
 "metadata": {
  "kernelspec": {
   "display_name": "Python 3",
   "language": "python",
   "name": "python3"
  },
  "language_info": {
   "codemirror_mode": {
    "name": "ipython",
    "version": 3
   },
   "file_extension": ".py",
   "mimetype": "text/x-python",
   "name": "python",
   "nbconvert_exporter": "python",
   "pygments_lexer": "ipython3",
   "version": "3.6.2"
  }
 },
 "nbformat": 4,
 "nbformat_minor": 1
}
